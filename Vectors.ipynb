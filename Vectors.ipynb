{
  "nbformat": 4,
  "nbformat_minor": 0,
  "metadata": {
    "colab": {
      "provenance": [],
      "authorship_tag": "ABX9TyPDMMMu+LLswdaT9ccoJyxl",
      "include_colab_link": true
    },
    "kernelspec": {
      "name": "python3",
      "display_name": "Python 3"
    },
    "language_info": {
      "name": "python"
    }
  },
  "cells": [
    {
      "cell_type": "markdown",
      "metadata": {
        "id": "view-in-github",
        "colab_type": "text"
      },
      "source": [
        "<a href=\"https://colab.research.google.com/github/devpandey01/Introduction-to-Dl-AI/blob/main/Vectors.ipynb\" target=\"_parent\"><img src=\"https://colab.research.google.com/assets/colab-badge.svg\" alt=\"Open In Colab\"/></a>"
      ]
    },
    {
      "cell_type": "code",
      "source": [
        "import numpy as np"
      ],
      "metadata": {
        "id": "So_fSFrqtRLK"
      },
      "execution_count": 1,
      "outputs": []
    },
    {
      "cell_type": "markdown",
      "source": [
        "# Adding vectors in Python"
      ],
      "metadata": {
        "id": "f_8S28YJtqlF"
      }
    },
    {
      "cell_type": "code",
      "source": [
        "x = [1,2,3]\n",
        "y = [4,5,6]\n",
        "\n",
        "z = []\n",
        "for i in range(len(x)):\n",
        "  z.append(x[i]+y[i])\n",
        "print(z)"
      ],
      "metadata": {
        "colab": {
          "base_uri": "https://localhost:8080/"
        },
        "id": "qDarru2TtYmg",
        "outputId": "9f7a53cc-ed22-4e48-e48d-62d7432696c4"
      },
      "execution_count": 2,
      "outputs": [
        {
          "output_type": "stream",
          "name": "stdout",
          "text": [
            "[5, 7, 9]\n"
          ]
        }
      ]
    },
    {
      "cell_type": "markdown",
      "source": [
        "# Adding vectors using NumPy Array"
      ],
      "metadata": {
        "id": "a-RMdxYPt-bu"
      }
    },
    {
      "cell_type": "code",
      "source": [
        "x = np.array([1,2,3])\n",
        "y = np.array([4,5,6])\n",
        "\n",
        "z = x + y\n",
        "z"
      ],
      "metadata": {
        "colab": {
          "base_uri": "https://localhost:8080/"
        },
        "id": "YIXUBEyRuKEN",
        "outputId": "323ef7bd-a329-4d23-8b3d-e6c2ce091d7b"
      },
      "execution_count": 3,
      "outputs": [
        {
          "output_type": "execute_result",
          "data": {
            "text/plain": [
              "array([5, 7, 9])"
            ]
          },
          "metadata": {},
          "execution_count": 3
        }
      ]
    },
    {
      "cell_type": "markdown",
      "source": [
        "# List vs NumPy\n",
        "\n"
      ],
      "metadata": {
        "id": "HOct-P9_up9L"
      }
    },
    {
      "cell_type": "code",
      "source": [
        "x = list(range(1,100001))"
      ],
      "metadata": {
        "colab": {
          "base_uri": "https://localhost:8080/"
        },
        "id": "zrceN1_Ewwym",
        "outputId": "4ad40dc2-4b31-4021-f4a1-c9f5baf8e323"
      },
      "execution_count": 13,
      "outputs": [
        {
          "output_type": "stream",
          "name": "stdout",
          "text": [
            "4.43 ms ± 392 µs per loop (mean ± std. dev. of 7 runs, 100 loops each)\n"
          ]
        }
      ]
    },
    {
      "cell_type": "code",
      "source": [
        "%timeit [2 * i for i in x]\n",
        "%timeit 2 * y"
      ],
      "metadata": {
        "colab": {
          "base_uri": "https://localhost:8080/"
        },
        "id": "T3RPyIb8w9pq",
        "outputId": "4406c915-06b9-42fc-fe52-7ba2b24724ba"
      },
      "execution_count": 14,
      "outputs": [
        {
          "output_type": "stream",
          "name": "stdout",
          "text": [
            "4.34 ms ± 118 µs per loop (mean ± std. dev. of 7 runs, 100 loops each)\n",
            "71.2 µs ± 12 µs per loop (mean ± std. dev. of 7 runs, 10000 loops each)\n"
          ]
        }
      ]
    },
    {
      "cell_type": "markdown",
      "source": [
        "**`range`** vs **`arange`**"
      ],
      "metadata": {
        "id": "qdDhbeMPxJY8"
      }
    },
    {
      "cell_type": "code",
      "source": [
        "for i in range(1,5):\n",
        "  print(i)"
      ],
      "metadata": {
        "colab": {
          "base_uri": "https://localhost:8080/"
        },
        "id": "5XSLhsRfvXeF",
        "outputId": "91af53bb-10ce-45b0-ccc4-e77db5664cf0"
      },
      "execution_count": 7,
      "outputs": [
        {
          "output_type": "stream",
          "name": "stdout",
          "text": [
            "1\n",
            "2\n",
            "3\n",
            "4\n"
          ]
        }
      ]
    },
    {
      "cell_type": "code",
      "source": [
        "a = np.arange(1,5)\n",
        "a"
      ],
      "metadata": {
        "colab": {
          "base_uri": "https://localhost:8080/"
        },
        "id": "3rD1SlgcvGmD",
        "outputId": "ea00b5d5-bc19-45de-933b-71269bb1483c"
      },
      "execution_count": 5,
      "outputs": [
        {
          "output_type": "execute_result",
          "data": {
            "text/plain": [
              "array([1, 2, 3, 4])"
            ]
          },
          "metadata": {},
          "execution_count": 5
        }
      ]
    },
    {
      "cell_type": "markdown",
      "source": [
        "# **Element-Wise Multiplication** (Hadamard Product)"
      ],
      "metadata": {
        "id": "kO6xYc5GvelK"
      }
    },
    {
      "cell_type": "code",
      "source": [
        "a = np.arange(1,4)\n",
        "b = np.arange(4,7)\n",
        "z = a * b\n",
        "z"
      ],
      "metadata": {
        "colab": {
          "base_uri": "https://localhost:8080/"
        },
        "id": "GNpoN6EUveMz",
        "outputId": "edce317e-bd9f-4ae5-aec1-a5af3ef855c9"
      },
      "execution_count": 8,
      "outputs": [
        {
          "output_type": "execute_result",
          "data": {
            "text/plain": [
              "array([ 4, 10, 18])"
            ]
          },
          "metadata": {},
          "execution_count": 8
        }
      ]
    },
    {
      "cell_type": "markdown",
      "source": [
        "**Scaling Vectors**"
      ],
      "metadata": {
        "id": "bp5nm5Cbwa3Z"
      }
    },
    {
      "cell_type": "code",
      "source": [
        "x = np.arange(1,4)\n",
        "y = 3 * x\n",
        "y"
      ],
      "metadata": {
        "colab": {
          "base_uri": "https://localhost:8080/"
        },
        "id": "J05PClfUwdok",
        "outputId": "279d988b-162e-46a9-f88a-a233f84ab88c"
      },
      "execution_count": 9,
      "outputs": [
        {
          "output_type": "execute_result",
          "data": {
            "text/plain": [
              "array([3, 6, 9])"
            ]
          },
          "metadata": {},
          "execution_count": 9
        }
      ]
    },
    {
      "cell_type": "markdown",
      "source": [
        "*Squaring of Numbers*"
      ],
      "metadata": {
        "id": "HX2hzzWHxzqb"
      }
    },
    {
      "cell_type": "code",
      "source": [
        "x = np.arange(1,100001)\n",
        "y = x ** 2"
      ],
      "metadata": {
        "id": "qlpXhnA5xxjn"
      },
      "execution_count": 16,
      "outputs": []
    },
    {
      "cell_type": "code",
      "source": [
        "x = np.arange(1,100001)\n",
        "y = np.log10(x) # base 10\n",
        "y = np.log(x) #base e"
      ],
      "metadata": {
        "id": "3YuRl9dwyIuq"
      },
      "execution_count": null,
      "outputs": []
    },
    {
      "cell_type": "markdown",
      "source": [
        "Adding Constant to a Vector"
      ],
      "metadata": {
        "id": "vlqNSut8yl8Y"
      }
    },
    {
      "cell_type": "code",
      "source": [
        "x = np.arange(1,4)\n",
        "c = 5\n",
        "y = x + c\n",
        "y"
      ],
      "metadata": {
        "colab": {
          "base_uri": "https://localhost:8080/"
        },
        "id": "aC9gSo61yqpR",
        "outputId": "7017ef78-e6b9-4160-aab7-0db7c4795c70"
      },
      "execution_count": 17,
      "outputs": [
        {
          "output_type": "execute_result",
          "data": {
            "text/plain": [
              "array([6, 7, 8])"
            ]
          },
          "metadata": {},
          "execution_count": 17
        }
      ]
    },
    {
      "cell_type": "markdown",
      "source": [
        "# *Write Functions*\n",
        "\n",
        "example `f(x) = 5x-2`"
      ],
      "metadata": {
        "id": "0FypPFJYz4Zc"
      }
    },
    {
      "cell_type": "code",
      "source": [
        "x = np.arange(1,4)\n",
        "y = 5*x - 2\n",
        "y"
      ],
      "metadata": {
        "colab": {
          "base_uri": "https://localhost:8080/"
        },
        "id": "yWVmEOR-0Pw0",
        "outputId": "653ee7ae-840d-4e00-8345-89eb9b25cfbf"
      },
      "execution_count": 18,
      "outputs": [
        {
          "output_type": "execute_result",
          "data": {
            "text/plain": [
              "array([ 3,  8, 13])"
            ]
          },
          "metadata": {},
          "execution_count": 18
        }
      ]
    },
    {
      "cell_type": "markdown",
      "source": [
        "## Dot Product"
      ],
      "metadata": {
        "id": "FJC9BAbK0cjK"
      }
    },
    {
      "cell_type": "code",
      "source": [
        "x = np.arange(1,5)\n",
        "y = np.arange(-4,-8,-1)\n",
        "\n",
        "z = np.dot(x,y) # or we can use x @ y"
      ],
      "metadata": {
        "id": "dhzutmsK0fpq"
      },
      "execution_count": 25,
      "outputs": []
    },
    {
      "cell_type": "markdown",
      "source": [
        "*Vectors of Zeros or Ones and Transpose Vectors*"
      ],
      "metadata": {
        "id": "X_83D8tC1G-V"
      }
    },
    {
      "cell_type": "code",
      "source": [
        "zeros = np.zeros(5)\n",
        "ones = np.ones(5)\n",
        "\n",
        "fives = 5*ones\n",
        "\n",
        "fives.T"
      ],
      "metadata": {
        "colab": {
          "base_uri": "https://localhost:8080/"
        },
        "id": "G7eJE9O61PK3",
        "outputId": "9e4d11b6-5d42-4aa8-c62a-ea6f6b072941"
      },
      "execution_count": 29,
      "outputs": [
        {
          "output_type": "execute_result",
          "data": {
            "text/plain": [
              "array([5., 5., 5., 5., 5.])"
            ]
          },
          "metadata": {},
          "execution_count": 29
        }
      ]
    },
    {
      "cell_type": "markdown",
      "source": [
        "# Norm of a Vector\n",
        " x = [1, 2, 3]\n",
        "\n",
        " L1 norm = ||x|| = |1| + |2| + |3| = 6\n",
        "\n",
        " L2 norm = ||x|| =  |1| + |2| + |3| = 3.74\n"
      ],
      "metadata": {
        "id": "OY4Dxmhj1nk3"
      }
    },
    {
      "cell_type": "code",
      "source": [
        "x = np.array([1,2,3])\n",
        "y = np.linalg.norm(x) # L2 norm\n",
        "z = np.linalg.norm(x, ord = 1) #L1 norm\n",
        "print(y,z)"
      ],
      "metadata": {
        "colab": {
          "base_uri": "https://localhost:8080/"
        },
        "id": "wdc6nEWM1t-Z",
        "outputId": "8a225893-04c8-4b1e-c7cb-75d98a9c9f80"
      },
      "execution_count": 32,
      "outputs": [
        {
          "output_type": "stream",
          "name": "stdout",
          "text": [
            "3.7416573867739413 6.0\n"
          ]
        }
      ]
    },
    {
      "cell_type": "markdown",
      "source": [
        "# Shape And Dimensions In Vectors"
      ],
      "metadata": {
        "id": "8xmkYPGe4v6a"
      }
    },
    {
      "cell_type": "code",
      "source": [
        "x = np.array([1,2,3,4])\n",
        "x.shape"
      ],
      "metadata": {
        "colab": {
          "base_uri": "https://localhost:8080/"
        },
        "id": "NnpKbKSU4tlk",
        "outputId": "b64af00c-a926-4ed6-f382-b455000b79c1"
      },
      "execution_count": 46,
      "outputs": [
        {
          "output_type": "execute_result",
          "data": {
            "text/plain": [
              "(4,)"
            ]
          },
          "metadata": {},
          "execution_count": 46
        }
      ]
    },
    {
      "cell_type": "code",
      "source": [
        "x.ndim"
      ],
      "metadata": {
        "colab": {
          "base_uri": "https://localhost:8080/"
        },
        "id": "ATUN97u95Wjd",
        "outputId": "ed07bb36-8f15-4cba-eb56-699a87dcd74a"
      },
      "execution_count": 47,
      "outputs": [
        {
          "output_type": "execute_result",
          "data": {
            "text/plain": [
              "1"
            ]
          },
          "metadata": {},
          "execution_count": 47
        }
      ]
    }
  ]
}